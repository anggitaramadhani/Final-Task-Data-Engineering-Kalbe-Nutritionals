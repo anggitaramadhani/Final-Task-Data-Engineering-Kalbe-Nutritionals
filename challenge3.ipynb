# Melakukan import mysql connector
import mysql.connector

# Melakukan percobaan koneksi
conn = mysql.connector.connect(
    host="localhost",
    user="root",
    password="root",
    database="KARYAWAN"
)

# Membuat object cursor sebagai penanda
cursor = conn.cursor()

# Deklarasi SQL Query untuk memasukkan record ke DB (KARYAWAN)
insert_sql = (
    "INSERT INTO employees (FIRST_NAME, LAST_NAME, AGE, SEX, INCOME)"
    "VALUES (%s, %s, %s, %s, %s)"
)

values = ('Anggita', 'Ramadhani', 23, 'Perempuan', 6000000)

try:
    # Eksekusi SQL Command
    cursor.execute(insert_sql, values)

    # Melakukan perubahan (commit) pada DB
    conn.commit()

except:
    # Rollback apabila ada issue
    conn.rollback()

# Menutup Koneksi
    cursor.close()
    conn.close()
